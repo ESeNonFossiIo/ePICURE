{
 "metadata": {
  "name": "",
  "signature": "sha256:3da1c02bd29bd2e919a4d2a13e0bef4e8cd00b0ca8607978a033952931fcb44d"
 },
 "nbformat": 3,
 "nbformat_minor": 0,
 "worksheets": [
  {
   "cells": [
    {
     "cell_type": "markdown",
     "metadata": {},
     "source": [
      "Working with Vector Spaces, L^2 Projections and Nonlinear problems\n",
      "==================================================================\n",
      "\n",
      "In this lecture we'll try to construct an L^2 projection using some of the objects defined in the project `ePICURE`: http://github.com/luca-heltai/ePICURE\n",
      "\n",
      "In particular we will be using some specializations of the `VectorSpace` class. The `UniformLagrangeVectorSpace` with `N` degrees of freedom.\n",
      "\n",
      "Let's start by loading all required packages and libraries.\n"
     ]
    },
    {
     "cell_type": "code",
     "collapsed": false,
     "input": [
      "%pylab inline\n",
      "import interfaces\n",
      "reload(interfaces)\n",
      "from interfaces import *"
     ],
     "language": "python",
     "metadata": {},
     "outputs": []
    },
    {
     "cell_type": "markdown",
     "metadata": {},
     "source": [
      "Now let's define a small helper function which will help us visualize what's going on."
     ]
    },
    {
     "cell_type": "code",
     "collapsed": false,
     "input": [
      "def plot_all(vs, i, span=1025):\n",
      "    \"\"\"Plot all basis of the VectorSpace vs in figure i using span points (by default: 1025)\"\"\"\n",
      "    x = linspace(vs.cells[0], vs.cells[-1], span)\n",
      "    figure(i)\n",
      "    for i in xrange(vs.n_dofs):\n",
      "        plot (x, vs.basis(i)(x))\n",
      "    title(type(vs).__name__)\n",
      "    show()"
     ],
     "language": "python",
     "metadata": {},
     "outputs": []
    },
    {
     "cell_type": "markdown",
     "metadata": {},
     "source": [
      "Defining `VectorSpaces`\n",
      "-----------------------\n",
      "\n",
      "Let's start with a 3 dimensional vector space, defined by Lagrange basis functions on uniformly spaced interpolation points:"
     ]
    },
    {
     "cell_type": "code",
     "collapsed": false,
     "input": [
      "N = 3\n",
      "vs = UniformLagrangeVectorSpace(N)\n",
      "plot_all(vs, 1)"
     ],
     "language": "python",
     "metadata": {},
     "outputs": []
    },
    {
     "cell_type": "markdown",
     "metadata": {},
     "source": [
      "What else do we know about this VectorSpace? Let's try its `print_info()` method:"
     ]
    },
    {
     "cell_type": "code",
     "collapsed": false,
     "input": [
      "vs.print_info()"
     ],
     "language": "python",
     "metadata": {},
     "outputs": []
    },
    {
     "cell_type": "markdown",
     "metadata": {},
     "source": [
      "As we can see, there are three degrees of freedom, 1 cell (with cell boundaries `[0,1]`) and in the only cell we have, we get all indices of the nonzero basis functions.\n",
      "\n",
      "What if we wanted to transform this basis function to a different interval? Say `[.3, .55]`? \n",
      "\n",
      "There is a special `VectorSpace`, called `AffineVectorSpace`, which transforms *arbitrary* `VectorSpaces` affinely, to the interval given as argument: let's try this..."
     ]
    },
    {
     "cell_type": "code",
     "collapsed": false,
     "input": [
      "va = AffineVectorSpace(vs, .3, .55)\n",
      "plot_all(va, 2)"
     ],
     "language": "python",
     "metadata": {},
     "outputs": []
    },
    {
     "cell_type": "markdown",
     "metadata": {},
     "source": [
      "Let's see what has changed:"
     ]
    },
    {
     "cell_type": "code",
     "collapsed": false,
     "input": [
      "va.print_info()"
     ],
     "language": "python",
     "metadata": {},
     "outputs": []
    },
    {
     "cell_type": "markdown",
     "metadata": {},
     "source": [
      "Repeating `VectorSpaces`\n",
      "------------------------\n",
      "\n",
      "What if we want to repeat the vectorspace `vs` on some subintervals, taking care of the continuity across the boundaries? `IteratedVectorSpace` does this for us. How?"
     ]
    },
    {
     "cell_type": "code",
     "collapsed": false,
     "input": [
      "newq = linspace(0,1,3)\n",
      "vi = IteratedVectorSpace(vs, newq)\n",
      "plot_all(vi, 2)"
     ],
     "language": "python",
     "metadata": {},
     "outputs": []
    },
    {
     "cell_type": "code",
     "collapsed": false,
     "input": [
      "vi.print_info()"
     ],
     "language": "python",
     "metadata": {},
     "outputs": []
    },
    {
     "cell_type": "markdown",
     "metadata": {},
     "source": [
      "As we can see, now things have changed. We used `newq` as a definition of subintervals, and we asked `IteratedVectorSpace` to repeat the `VectorSpace` passed as argument as many times as there are intervals in `newq`. What happens at the elements boundaries? The `UniformLagrangeVectorSpace` has an additional argument at construction time, which determines how many dofs are shared across cell boundaries. Let's try to set that argument to `False`, and repeat the construction:"
     ]
    },
    {
     "cell_type": "code",
     "collapsed": false,
     "input": [
      "vs_dg = UniformLagrangeVectorSpace(3, False)\n",
      "vs_dg.print_info()"
     ],
     "language": "python",
     "metadata": {},
     "outputs": []
    },
    {
     "cell_type": "markdown",
     "metadata": {},
     "source": [
      "Now you can see that the number of shared dofs across boundaries have changed. Let's analyize how this will affect the `IteratedVectorSpace`:"
     ]
    },
    {
     "cell_type": "code",
     "collapsed": false,
     "input": [
      "vi_dg = IteratedVectorSpace(vs_dg, newq)\n",
      "plot_all(vi_dg, 3)"
     ],
     "language": "python",
     "metadata": {},
     "outputs": []
    },
    {
     "cell_type": "markdown",
     "metadata": {},
     "source": [
      "They seem almost identical. Look closely, and you'll notice that now there are more colors, and that some functions which were continuous before, now are no longer continuous...\n",
      "\n",
      "Let's see how many degrees of freedom we have:"
     ]
    },
    {
     "cell_type": "code",
     "collapsed": false,
     "input": [
      "vi_dg.print_info()"
     ],
     "language": "python",
     "metadata": {},
     "outputs": []
    },
    {
     "cell_type": "markdown",
     "metadata": {},
     "source": [
      "You can see now that there are no overlaps between cells. All basis functions are *local*. Let's try to construct an interpolation matrix and an L^2 projection matrix, and see how these changes will affect the solution...\n",
      "\n",
      "Least Square matrix\n",
      "-------------------\n",
      "\n",
      "We have already seen how to construct a least square matrix. I have implemented this in the utilities folder, in the `least_square.py` module.\n",
      "\n",
      "Lets load it. Notice that I put a `reload` command right after import utilities.least_square. This allows me to make changes in the given file, and let this notebook notice the changes..."
     ]
    },
    {
     "cell_type": "code",
     "collapsed": false,
     "input": [
      "import utilities.matrices\n",
      "reload(utilities.matrices)\n",
      "from utilities.matrices import *\n",
      "\n",
      "# This will create the matrix M_ij = v_j(x_i), on 50 interpolation points\n",
      "x = linspace(0,1,50)\n",
      "M = interpolation_matrix(vi, x)\n",
      "type(M)"
     ],
     "language": "python",
     "metadata": {},
     "outputs": []
    },
    {
     "cell_type": "markdown",
     "metadata": {},
     "source": [
      "Notice that we can plot the matrix, if we want... it should look similar to the plots above, just with less points... Notice that the matrix above is a **Column oriented matrix**, because it was faster to produce than a row oriented matrix..."
     ]
    },
    {
     "cell_type": "code",
     "collapsed": false,
     "input": [
      "\n",
      "# This will create the matrix M_ij = v_j(x_i), on 50 interpolation points\n",
      "x = linspace(0,1,50)\n",
      "M = interpolation_matrix(vi, x)\n",
      "type(M)"
     ],
     "language": "python",
     "metadata": {},
     "outputs": []
    },
    {
     "cell_type": "code",
     "collapsed": false,
     "input": [
      "plot(x, M)"
     ],
     "language": "python",
     "metadata": {},
     "outputs": []
    },
    {
     "cell_type": "markdown",
     "metadata": {},
     "source": [
      "There are a lot of zero entries in the `M` matrix. We can make it sparse:"
     ]
    },
    {
     "cell_type": "code",
     "collapsed": false,
     "input": [
      "from scipy.sparse import csc_matrix\n",
      "Ms = csc_matrix(M)"
     ],
     "language": "python",
     "metadata": {},
     "outputs": []
    },
    {
     "cell_type": "markdown",
     "metadata": {},
     "source": [
      "Now let's try to solve a least square problem with a given curve... The curve is a circle.\n"
     ]
    },
    {
     "cell_type": "code",
     "collapsed": false,
     "input": [
      "from numpy.linalg import lstsq\n",
      "\n",
      "fx = lambda x: sin(2*pi*x)\n",
      "fy = lambda x: cos(2*pi*x)\n",
      "\n",
      "g = asmatrix(array([fx(x), fy(x)]))\n",
      "\n",
      "c = lstsq(M, g.T)\n",
      "\n",
      "# The first argument of c contains a matrix. Transform it to an array, \n",
      "# otherwise its length is not compatible with VectorSpace\n",
      "cx = np.array(c[0][:,0], copy=False)\n",
      "cy = np.array(c[0][:,1], copy=False)\n",
      "\n",
      "fix = vi.element(cx)\n",
      "fiy = vi.element(cy)\n",
      "\n",
      "xp = linspace(0,1,1025)\n",
      "plot(fx(xp), fy(xp))\n",
      "plot(fix(xp), fiy(xp))\n",
      "axis('equal')"
     ],
     "language": "python",
     "metadata": {},
     "outputs": []
    },
    {
     "cell_type": "markdown",
     "metadata": {},
     "source": [
      "This does not look too good... Let's refine to some more nodes..."
     ]
    },
    {
     "cell_type": "code",
     "collapsed": false,
     "input": [
      "Nreps = 11\n",
      "Nsamples = 100\n",
      "vi = IteratedVectorSpace(vs, linspace(0,1,Nreps))\n",
      "x = linspace(0,1,Nsamples)\n",
      "M = interpolation_matrix(vi, x)\n",
      "\n",
      "g = asmatrix(array([fx(x), fy(x)]))\n",
      "c = lstsq(M, g.T)\n",
      "\n",
      "cx = np.array(c[0][:,0], copy=False)\n",
      "cy = np.array(c[0][:,1], copy=False)\n",
      "\n",
      "fix = vi.element(cx)\n",
      "fiy = vi.element(cy)\n",
      "\n",
      "xp = linspace(0,1,1025)\n",
      "plot(fx(xp), fy(xp))\n",
      "plot(fix(xp), fiy(xp))\n",
      "axis('equal')"
     ],
     "language": "python",
     "metadata": {},
     "outputs": []
    }
   ],
   "metadata": {}
  }
 ]
}