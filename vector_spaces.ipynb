{
 "metadata": {
  "name": "",
  "signature": "sha256:0ead4547e597ee8042a652fb40ecba88fb9a07178311c3bf102034b802e0fad4"
 },
 "nbformat": 3,
 "nbformat_minor": 0,
 "worksheets": [
  {
   "cells": [
    {
     "cell_type": "markdown",
     "metadata": {},
     "source": [
      "Working with Vector Spaces, L^2 Projections and Nonlinear problems\n",
      "==================================================================\n",
      "\n",
      "In this lecture we'll try to construct an L^2 projection using some of the objects defined in the project `ePICURE`: http://github.com/luca-heltai/ePICURE\n",
      "\n",
      "In particular we will be using some specializations of the `VectorSpace` class. The `UniformLagrangeVectorSpace` with `N` degrees of freedom.\n",
      "\n",
      "Let's start by loading all required packages and libraries.\n"
     ]
    },
    {
     "cell_type": "code",
     "collapsed": false,
     "input": [
      "# %pylab inline # <- This crashes!\n",
      "import interfaces.lagrange_vector_space\n",
      "import interfaces.vector_space\n",
      "reload(interfaces.lagrange_vector_space)\n",
      "reload(interfaces.vector_space)\n",
      "from interfaces.vector_space import *\n",
      "from interfaces.lagrange_vector_space import *\n",
      "\n",
      "from numpy import *"
     ],
     "language": "python",
     "metadata": {},
     "outputs": [],
     "prompt_number": 1
    },
    {
     "cell_type": "markdown",
     "metadata": {},
     "source": [
      "Now let's define a small helper function which will help us visualize what's going on."
     ]
    },
    {
     "cell_type": "code",
     "collapsed": false,
     "input": [
      "def plot_all(vs, i, span=1025):\n",
      "    \"\"\"Plot all basis of the VectorSpace vs in figure i using span points (by default: 1025)\"\"\"\n",
      "    #x = linspace(vs.cells[0], vs.cells[-1], span)\n",
      "    #figure(i)\n",
      "    #for i in xrange(vs.n_dofs):\n",
      "    #    plot (x, vs.basis(i)(x))\n",
      "    #title(type(vs).__name__)\n",
      "    #show()"
     ],
     "language": "python",
     "metadata": {},
     "outputs": [],
     "prompt_number": 10
    },
    {
     "cell_type": "markdown",
     "metadata": {},
     "source": [
      "Defining `VectorSpaces`\n",
      "-----------------------\n",
      "\n",
      "Let's start with a 3 dimensional vector space, defined by Lagrange basis functions on uniformly spaced interpolation points:"
     ]
    },
    {
     "cell_type": "code",
     "collapsed": false,
     "input": [
      "N = 3\n",
      "vs = UniformLagrangeVectorSpace(N)\n",
      "plot_all(vs, 1)"
     ],
     "language": "python",
     "metadata": {},
     "outputs": [],
     "prompt_number": 11
    },
    {
     "cell_type": "markdown",
     "metadata": {},
     "source": [
      "What else do we know about this VectorSpace? Let's try its `print_info()` method:"
     ]
    },
    {
     "cell_type": "code",
     "collapsed": false,
     "input": [
      "vs.print_info()"
     ],
     "language": "python",
     "metadata": {},
     "outputs": [
      {
       "output_type": "stream",
       "stream": "stdout",
       "text": [
        "============================================================\n",
        "Name: UniformLagrangeVectorSpace\n",
        "N dofs: 3, N cells: 1, \n",
        "Cell boundaries: [ 0.  1.]\n",
        "Shared dofs on cell boundaries: 1\n",
        "------------------------------------------------------------\n",
        "Cell 0: [0.0,1.0]\n",
        "Nonzero basis: [0, 1, 2]\n",
        "------------------------------------------------------------\n"
       ]
      }
     ],
     "prompt_number": 12
    },
    {
     "cell_type": "markdown",
     "metadata": {},
     "source": [
      "As we can see, there are three degrees of freedom, 1 cell (with cell boundaries `[0,1]`) and in the only cell we have, we get all indices of the nonzero basis functions.\n",
      "\n",
      "What if we wanted to transform this basis function to a different interval? Say `[.3, .55]`? \n",
      "\n",
      "There is a special `VectorSpace`, called `AffineVectorSpace`, which transforms *arbitrary* `VectorSpaces` affinely, to the interval given as argument: let's try this..."
     ]
    },
    {
     "cell_type": "code",
     "collapsed": false,
     "input": [
      "va = AffineVectorSpace(vs, .3, .55)\n",
      "plot_all(va, 2)"
     ],
     "language": "python",
     "metadata": {},
     "outputs": [],
     "prompt_number": 13
    },
    {
     "cell_type": "markdown",
     "metadata": {},
     "source": [
      "Let's see what has changed:"
     ]
    },
    {
     "cell_type": "code",
     "collapsed": false,
     "input": [
      "va.print_info()"
     ],
     "language": "python",
     "metadata": {},
     "outputs": [
      {
       "output_type": "stream",
       "stream": "stdout",
       "text": [
        "============================================================\n",
        "Name: AffineVectorSpace\n",
        "N dofs: 3, N cells: 1, \n",
        "Cell boundaries: [ 0.3   0.55]\n",
        "Shared dofs on cell boundaries: 1\n",
        "------------------------------------------------------------\n",
        "Cell 0: [0.3,0.55]\n",
        "Nonzero basis: [0, 1, 2]\n",
        "------------------------------------------------------------\n"
       ]
      }
     ],
     "prompt_number": 14
    },
    {
     "cell_type": "markdown",
     "metadata": {},
     "source": [
      "Repeating `VectorSpaces`\n",
      "------------------------\n",
      "\n",
      "What if we want to repeat the vectorspace `vs` on some subintervals, taking care of the continuity across the boundaries? `IteratedVectorSpace` does this for us. How?"
     ]
    },
    {
     "cell_type": "code",
     "collapsed": false,
     "input": [
      "newq = linspace(0,1,3)\n",
      "vi = IteratedVectorSpace(vs, newq)\n",
      "plot_all(vi, 2)"
     ],
     "language": "python",
     "metadata": {},
     "outputs": [],
     "prompt_number": 15
    },
    {
     "cell_type": "code",
     "collapsed": false,
     "input": [
      "vi.print_info()"
     ],
     "language": "python",
     "metadata": {},
     "outputs": [
      {
       "output_type": "stream",
       "stream": "stdout",
       "text": [
        "============================================================\n",
        "Name: IteratedVectorSpace\n",
        "N dofs: 5, N cells: 2, \n",
        "Cell boundaries: [ 0.   0.5  1. ]\n",
        "Shared dofs on cell boundaries: 1\n",
        "------------------------------------------------------------\n",
        "Cell 0: [0.0,0.5]\n",
        "Nonzero basis: [0, 1, 2]\n",
        "------------------------------------------------------------\n",
        "Cell 1: [0.5,1.0]\n",
        "Nonzero basis: [2, 3, 4]\n",
        "------------------------------------------------------------\n"
       ]
      }
     ],
     "prompt_number": 16
    },
    {
     "cell_type": "markdown",
     "metadata": {},
     "source": [
      "As we can see, now things have changed. We used `newq` as a definition of subintervals, and we asked `IteratedVectorSpace` to repeat the `VectorSpace` passed as argument as many times as there are intervals in `newq`. What happens at the elements boundaries? The `UniformLagrangeVectorSpace` has an additional argument at construction time, which determines how many dofs are shared across cell boundaries. Let's try to set that argument to `False`, and repeat the construction:"
     ]
    },
    {
     "cell_type": "code",
     "collapsed": false,
     "input": [
      "vs_dg = UniformLagrangeVectorSpace(3, False)\n",
      "vs_dg.print_info()"
     ],
     "language": "python",
     "metadata": {},
     "outputs": [
      {
       "output_type": "stream",
       "stream": "stdout",
       "text": [
        "============================================================\n",
        "Name: UniformLagrangeVectorSpace\n",
        "N dofs: 3, N cells: 1, \n",
        "Cell boundaries: [ 0.  1.]\n",
        "Shared dofs on cell boundaries: 0\n",
        "------------------------------------------------------------\n",
        "Cell 0: [0.0,1.0]\n",
        "Nonzero basis: [0, 1, 2]\n",
        "------------------------------------------------------------\n"
       ]
      }
     ],
     "prompt_number": 17
    },
    {
     "cell_type": "markdown",
     "metadata": {},
     "source": [
      "Now you can see that the number of shared dofs across boundaries have changed. Let's analyize how this will affect the `IteratedVectorSpace`:"
     ]
    },
    {
     "cell_type": "code",
     "collapsed": false,
     "input": [
      "vi_dg = IteratedVectorSpace(vs_dg, newq)\n",
      "plot_all(vi_dg, 3)"
     ],
     "language": "python",
     "metadata": {},
     "outputs": [],
     "prompt_number": 18
    },
    {
     "cell_type": "markdown",
     "metadata": {},
     "source": [
      "They seem almost identical. Look closely, and you'll notice that now there are more colors, and that some functions which were continuous before, not are no longer continuous...\n",
      "\n",
      "Let's see how many degrees of freedom we have:"
     ]
    },
    {
     "cell_type": "code",
     "collapsed": false,
     "input": [
      "vi_dg.print_info()"
     ],
     "language": "python",
     "metadata": {},
     "outputs": [
      {
       "output_type": "stream",
       "stream": "stdout",
       "text": [
        "============================================================\n",
        "Name: IteratedVectorSpace\n",
        "N dofs: 6, N cells: 2, \n",
        "Cell boundaries: [ 0.   0.5  1. ]\n",
        "Shared dofs on cell boundaries: 0\n",
        "------------------------------------------------------------\n",
        "Cell 0: [0.0,0.5]\n",
        "Nonzero basis: [0, 1, 2]\n",
        "------------------------------------------------------------\n",
        "Cell 1: [0.5,1.0]\n",
        "Nonzero basis: [3, 4, 5]\n",
        "------------------------------------------------------------\n"
       ]
      }
     ],
     "prompt_number": 19
    },
    {
     "cell_type": "markdown",
     "metadata": {},
     "source": [
      "You can see now that there are no overlaps between cells. All basis functions are *local*. Let's try to construct an interpolation matrix and an L^2 projection matrix, and see how these changes will affect the solution..."
     ]
    },
    {
     "cell_type": "code",
     "collapsed": false,
     "input": [],
     "language": "python",
     "metadata": {},
     "outputs": []
    }
   ],
   "metadata": {}
  }
 ]
}